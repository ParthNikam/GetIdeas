{
 "cells": [
  {
   "cell_type": "raw",
   "id": "fa09d935",
   "metadata": {},
   "source": [
    "https://stackabuse.com/text-classification-with-python-and-scikit-learn/\n",
    "https://medium.com/analytics-vidhya/nlp-tutorial-for-text-classification-in-python-8f19cd17b49e"
   ]
  },
  {
   "cell_type": "code",
   "execution_count": 2,
   "id": "cfde9433",
   "metadata": {},
   "outputs": [],
   "source": [
    "import numpy as np\n",
    "import pandas as pd"
   ]
  },
  {
   "cell_type": "code",
   "execution_count": 7,
   "id": "8f6557dd",
   "metadata": {},
   "outputs": [],
   "source": [
    "df = pd.read_csv(\"./data/IDEAS.csv\")"
   ]
  },
  {
   "cell_type": "code",
   "execution_count": null,
   "id": "d32b2c9f",
   "metadata": {},
   "outputs": [],
   "source": [
    "# make use of data"
   ]
  },
  {
   "cell_type": "code",
   "execution_count": null,
   "id": "beec5270",
   "metadata": {},
   "outputs": [],
   "source": []
  }
 ],
 "metadata": {
  "kernelspec": {
   "display_name": "Python 3",
   "language": "python",
   "name": "python3"
  },
  "language_info": {
   "codemirror_mode": {
    "name": "ipython",
    "version": 3
   },
   "file_extension": ".py",
   "mimetype": "text/x-python",
   "name": "python",
   "nbconvert_exporter": "python",
   "pygments_lexer": "ipython3",
   "version": "3.8.5"
  }
 },
 "nbformat": 4,
 "nbformat_minor": 5
}
